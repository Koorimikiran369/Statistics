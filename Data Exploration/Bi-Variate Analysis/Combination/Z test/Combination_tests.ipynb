{
 "cells": [
  {
   "cell_type": "markdown",
   "metadata": {},
   "source": [
    " ## Z-test and t-test :"
   ]
  },
  {
   "cell_type": "markdown",
   "metadata": {},
   "source": [
    "### Z-test :"
   ]
  },
  {
   "cell_type": "markdown",
   "metadata": {},
   "source": [
    "- `Z-test and t-test are basically the same. They assess whether the averages of two groups are statistically different from each other. This analysis is appropriate for comparing the averages of a numerical variable for two categories of a categorical variable.`\t\t\n",
    "\n",
    "![title](Z-test.png)\n",
    "\n",
    "If the probability of Z is small, the difference between two averages is more significant.\t\t\n",
    "  "
   ]
  },
  {
   "cell_type": "markdown",
   "metadata": {},
   "source": [
    "### t-test :"
   ]
  },
  {
   "cell_type": "markdown",
   "metadata": {},
   "source": [
    "- `When the n1 or n2 is less than 30 we use the t-test instead of the Z-test.`\n",
    "\n",
    "![title](t-test.png)"
   ]
  },
  {
   "cell_type": "markdown",
   "metadata": {},
   "source": [
    "### There are two main versions of Student’s t-test:\n",
    "\n",
    "- `Independent Samples`: The case where the two samples are unrelated.\n",
    "<br>\n",
    "\n",
    "- `Dependent Samples`: The case where the samples are related, such as repeated measures on the same population. Also called a paired test."
   ]
  },
  {
   "cell_type": "code",
   "execution_count": 2,
   "metadata": {},
   "outputs": [
    {
     "name": "stdout",
     "output_type": "stream",
     "text": [
      "t=-2.262, df=198, cv=1.653, p=0.025\n",
      "Reject the null hypothesis that the means are equal.\n",
      "Reject the null hypothesis that the means are equal.\n"
     ]
    }
   ],
   "source": [
    "# t-test for independent samples\n",
    "\n",
    "from math import sqrt\n",
    "from numpy.random import seed\n",
    "from numpy.random import randn\n",
    "from numpy import mean\n",
    "from scipy.stats import sem\n",
    "from scipy.stats import t\n",
    " \n",
    "# function for calculating the t-test for two independent samples\n",
    "def independent_ttest(data1, data2, alpha):\n",
    "    # calculate means\n",
    "    mean1, mean2 = mean(data1), mean(data2)\n",
    "    # calculate standard errors\n",
    "    se1, se2 = sem(data1), sem(data2)\n",
    "    # standard error on the difference between the samples\n",
    "    sed = sqrt(se1**2.0 + se2**2.0)\n",
    "    # calculate the t statistic\n",
    "    t_stat = (mean1 - mean2) / sed\n",
    "    # degrees of freedom\n",
    "    df = len(data1) + len(data2) - 2\n",
    "    # calculate the critical value\n",
    "    cv = t.ppf(1.0 - alpha, df)\n",
    "    # calculate the p-value\n",
    "    p = (1.0 - t.cdf(abs(t_stat), df)) * 2.0\n",
    "    # return everything\n",
    "    return t_stat, df, cv, p\n",
    " \n",
    "# seed the random number generator\n",
    "seed(1)\n",
    "# generate two independent samples\n",
    "data1 = 5 * randn(100) + 50\n",
    "data2 = 5 * randn(100) + 51\n",
    "# calculate the t test\n",
    "alpha = 0.05\n",
    "t_stat, df, cv, p = independent_ttest(data1, data2, alpha)\n",
    "print('t=%.3f, df=%d, cv=%.3f, p=%.3f' % (t_stat, df, cv, p))\n",
    "# interpret via critical value\n",
    "if abs(t_stat) <= cv:\n",
    "    print('Accept null hypothesis that the means are equal.')\n",
    "else:\n",
    "    print('Reject the null hypothesis that the means are equal.')\n",
    "# interpret via p-value\n",
    "if p > alpha:\n",
    "    print('Accept null hypothesis that the means are equal.')\n",
    "else:\n",
    "    print('Reject the null hypothesis that the means are equal.')"
   ]
  },
  {
   "cell_type": "code",
   "execution_count": 3,
   "metadata": {},
   "outputs": [
    {
     "name": "stdout",
     "output_type": "stream",
     "text": [
      "t=-2.372, df=99, cv=1.660, p=0.020\n",
      "Reject the null hypothesis that the means are equal.\n",
      "Reject the null hypothesis that the means are equal.\n"
     ]
    }
   ],
   "source": [
    "# t-test for dependent samples\n",
    "\n",
    "from math import sqrt\n",
    "from numpy.random import seed\n",
    "from numpy.random import randn\n",
    "from numpy import mean\n",
    "from scipy.stats import t\n",
    " \n",
    "# function for calculating the t-test for two dependent samples\n",
    "def dependent_ttest(data1, data2, alpha):\n",
    "    # calculate means\n",
    "    mean1, mean2 = mean(data1), mean(data2)\n",
    "    # number of paired samples\n",
    "    n = len(data1)\n",
    "    # sum squared difference between observations\n",
    "    d1 = sum([(data1[i]-data2[i])**2 for i in range(n)])\n",
    "    # sum difference between observations\n",
    "    d2 = sum([data1[i]-data2[i] for i in range(n)])\n",
    "    # standard deviation of the difference between means\n",
    "    sd = sqrt((d1 - (d2**2 / n)) / (n - 1))\n",
    "    # standard error of the difference between the means\n",
    "    sed = sd / sqrt(n)\n",
    "    # calculate the t statistic\n",
    "    t_stat = (mean1 - mean2) / sed\n",
    "    # degrees of freedom\n",
    "    df = n - 1\n",
    "    # calculate the critical value\n",
    "    cv = t.ppf(1.0 - alpha, df)\n",
    "    # calculate the p-value\n",
    "    p = (1.0 - t.cdf(abs(t_stat), df)) * 2.0\n",
    "    # return everything\n",
    "    return t_stat, df, cv, p\n",
    " \n",
    "# seed the random number generator\n",
    "seed(1)\n",
    "# generate two independent samples (pretend they are dependent)\n",
    "data1 = 5 * randn(100) + 50\n",
    "data2 = 5 * randn(100) + 51\n",
    "# calculate the t test\n",
    "alpha = 0.05\n",
    "t_stat, df, cv, p = dependent_ttest(data1, data2, alpha)\n",
    "print('t=%.3f, df=%d, cv=%.3f, p=%.3f' % (t_stat, df, cv, p))\n",
    "# interpret via critical value\n",
    "if abs(t_stat) <= cv:\n",
    "    print('Accept null hypothesis that the means are equal.')\n",
    "else:\n",
    "    print('Reject the null hypothesis that the means are equal.')\n",
    "# interpret via p-value\n",
    "if p > alpha:\n",
    "    print('Accept null hypothesis that the means are equal.')\n",
    "else:\n",
    "    print('Reject the null hypothesis that the means are equal.')"
   ]
  },
  {
   "cell_type": "markdown",
   "metadata": {},
   "source": [
    "\n",
    "## Analysis of Variance (ANOVA) :"
   ]
  },
  {
   "cell_type": "markdown",
   "metadata": {},
   "source": [
    "- `The ANOVA test assesses whether the averages of more than two groups are statistically different from each other. This analysis is appropriate for comparing the averages of a numerical variable for more than two categories of a categorical variable.`"
   ]
  },
  {
   "cell_type": "markdown",
   "metadata": {},
   "source": [
    "![title](Anova.png)"
   ]
  },
  {
   "cell_type": "markdown",
   "metadata": {},
   "source": [
    "`ANOVA is a hypothesis testing technique tests the equality of two or more population means by examining the variances of samples that are taken.`\n",
    "\n",
    "- ***ANOVA tests the general rather than specific differences among means.***\n",
    "\n",
    "Assumptions of ANOVA :\n",
    "\n",
    "            1) All populations involved follow a normal distribution\n",
    "            2) All populations have the same variance\n",
    "            3) The samples are randomly selected and independent of one another"
   ]
  },
  {
   "cell_type": "markdown",
   "metadata": {},
   "source": [
    "            \n",
    "### One-way ANOVA :"
   ]
  },
  {
   "cell_type": "markdown",
   "metadata": {},
   "source": [
    "**Example 1:** <br>\n",
    "\n",
    "Consider the monthly income of members from three different gyms - fitness centers given below:\n",
    "\n",
    "Gym 1 (n = 22): [60, 66, 65, 55, 62, 70, 51, 72, 58, 61, 71, 41, 70, 57, 55, 63, 64, 76, 74, 54, 58, 73] <br>\n",
    "Gym 2 (n = 18): [56, 65, 65, 63, 57, 47, 72, 56, 52, 75, 66, 62, 68, 75, 60, 73, 63, 64] <br>\n",
    "Gym 3 (n = 23): [67, 56, 65, 61, 63, 59, 42, 53, 63, 65, 60, 57, 62, 70, 73, 63, 55, 52, 58, 68, 70, 72, 45] <br>\n",
    "Using ANOVA, test whether the mean monthly income is equal for each Gym."
   ]
  },
  {
   "cell_type": "code",
   "execution_count": 1,
   "metadata": {},
   "outputs": [],
   "source": [
    "import pandas            as pd\n",
    "import numpy             as np\n",
    "import matplotlib.pyplot as plt\n",
    "import seaborn           as sns"
   ]
  },
  {
   "cell_type": "code",
   "execution_count": 2,
   "metadata": {},
   "outputs": [
    {
     "name": "stdout",
     "output_type": "stream",
     "text": [
      "Count, Mean and standard deviation of monthly income of members of Gym 1:  22, 62.55 and 8.67\n",
      "Count, Mean and standard deviation of monthly income of members of Gym 2:  18, 63.28 and 7.79\n",
      "Count, Mean and standard deviation of monthly income of members of Gym 3:  23, 60.83 and 8.00\n"
     ]
    }
   ],
   "source": [
    "Gym_1 = np.array([60, 66, 65, 55, 62, 70, 51, 72, 58, 61, 71, 41, 70, 57, 55, 63, 64, 76, 74, 54, 58, 73])\n",
    "Gym_2 = np.array([56, 65, 65, 63, 57, 47, 72, 56, 52, 75, 66, 62, 68, 75, 60, 73, 63, 64])\n",
    "Gym_3 = np.array([67, 56, 65, 61, 63, 59, 42, 53, 63, 65, 60, 57, 62, 70, 73, 63, 55, 52, 58, 68, 70, 72, 45])  \n",
    "\n",
    "print('Count, Mean and standard deviation of monthly income of members of Gym 1: %3d, %3.2f and %3.2f' % (len(Gym_1), Gym_1.mean(),np.std(Gym_1,ddof =1)))\n",
    "print('Count, Mean and standard deviation of monthly income of members of Gym 2: %3d, %3.2f and %3.2f' % (len(Gym_2), Gym_2.mean(),np.std(Gym_2,ddof =1)))\n",
    "print('Count, Mean and standard deviation of monthly income of members of Gym 3: %3d, %3.2f and %3.2f' % (len(Gym_3), Gym_3.mean(),np.std(Gym_3,ddof =1)))"
   ]
  },
  {
   "cell_type": "code",
   "execution_count": 3,
   "metadata": {},
   "outputs": [],
   "source": [
    "monthly_inc_df = pd.DataFrame()\n",
    "\n",
    "df1            = pd.DataFrame({'Gym': '1', 'Monthly_inc':Gym_1})\n",
    "df2            = pd.DataFrame({'Gym': '2', 'Monthly_inc':Gym_2})\n",
    "df3            = pd.DataFrame({'Gym': '3', 'Monthly_inc':Gym_3})\n",
    "\n",
    "monthly_inc_df = monthly_inc_df.append(df1) \n",
    "monthly_inc_df = monthly_inc_df.append(df2) \n",
    "monthly_inc_df = monthly_inc_df.append(df3)"
   ]
  },
  {
   "cell_type": "markdown",
   "metadata": {},
   "source": [
    "### Let us explore the data graphically\n",
    "\n",
    "    A side by side boxplot is one of the best way to compare group locations, spreads and shapes."
   ]
  },
  {
   "cell_type": "code",
   "execution_count": 4,
   "metadata": {},
   "outputs": [
    {
     "data": {
      "image/png": "[encoded data removed]",
      "text/plain": [
       "<Figure size 432x288 with 1 Axes>"
      ]
     },
     "metadata": {
      "needs_background": "light"
     },
     "output_type": "display_data"
    }
   ],
   "source": [
    "sns.boxplot(x = \"Gym\", y = \"Monthly_inc\", data = monthly_inc_df)\n",
    "plt.title('Monthly income of Gym members')\n",
    "plt.show()"
   ]
  },
  {
   "cell_type": "markdown",
   "metadata": {},
   "source": [
    "    The boxplots show almost similar shapes, location and spreads and group 3 has an low outlier."
   ]
  },
  {
   "cell_type": "markdown",
   "metadata": {},
   "source": [
    "### Step 1: State the null and alternative hypothesis:\n",
    "    \n",
    "$H_0$: $\\mu1$ = $\\mu2$ = $\\mu3$\n",
    "       \n",
    "  $H_A$: At least one $\\mu$ differs\n",
    "        \n",
    "### Step 2: Decide the significance level\n",
    "    \n",
    "  Here we select $\\alpha$ = 0.05\n",
    "\n",
    "### Step 3: Identify the test statistic\n",
    "\n",
    "    Here we have three groups. Analysis of variance can determine whether the means of three or more groups are different. ANOVA uses F-tests to statistically test the equality of means.\n",
    "\n",
    "### Step 4: Calculate F, a test statistic\n",
    "\n",
    "    scipy.stats.f.ppf gives the critical value at a given level of confidence with a pair of degrees of freedom.\n",
    "    scipy.stats.f.cdf gives the cumulative distribution function for the given random variable \n",
    "    \n",
    "- given the calculated F value at a given level of confidence with a pair of degrees of freedom."
   ]
  },
  {
   "cell_type": "code",
   "execution_count": 5,
   "metadata": {},
   "outputs": [],
   "source": [
    "import scipy.stats as     stats"
   ]
  },
  {
   "cell_type": "code",
   "execution_count": 6,
   "metadata": {},
   "outputs": [
    {
     "name": "stdout",
     "output_type": "stream",
     "text": [
      "F critical value for 2 and 60 df with .95 confidence 3.15\n"
     ]
    }
   ],
   "source": [
    "crit = stats.f.ppf(q = 1-0.05, dfn = 2, dfd = 60)\n",
    "print('F critical value for 2 and 60 df with .95 confidence %3.2f' %crit)"
   ]
  },
  {
   "cell_type": "markdown",
   "metadata": {},
   "source": [
    "## Calculate p value"
   ]
  },
  {
   "cell_type": "code",
   "execution_count": 7,
   "metadata": {},
   "outputs": [
    {
     "name": "stdout",
     "output_type": "stream",
     "text": [
      "P value for 2 and 60 df with .95 confidence for the calculated F value 0.61079\n"
     ]
    }
   ],
   "source": [
    "p_value = 1 -stats.f.cdf(0.497075, dfn = 2, dfd = 60)\n",
    "print('P value for 2 and 60 df with .95 confidence for the calculated F value %3.5f' % p_value)"
   ]
  },
  {
   "cell_type": "markdown",
   "metadata": {},
   "source": [
    "Or formulate an ANOVA table using statsmodels\n",
    "\n",
    "    statsmodels.formula.api.ols creates a model from a formula and dataframe\n",
    "    \n",
    "    statsmodels.api.sm.stats.anova_lm gives an Anova table for one or more fitted linear models\n",
    "    \n",
    "In the formula. we know that\n",
    "\n",
    "1) ~ separates the left hand side of the model from the right hand side <br>\n",
    "2) + adds new columns to the design matrix <br>\n",
    "3) : adds a new column to the design matrix with the product of the other two columns <br>\n",
    "4) * also adds the individual columns multiplied together along with their product <br>\n",
    "5) C() operator denotes that the variable enclosed in C() will be treated explicitly as categorical variable.<br>"
   ]
  },
  {
   "cell_type": "code",
   "execution_count": 8,
   "metadata": {},
   "outputs": [
    {
     "name": "stdout",
     "output_type": "stream",
     "text": [
      "               sum_sq    df         F   PR(>F)\n",
      "Gym         66.614123   2.0  0.497075  0.61079\n",
      "Residual  4020.370004  60.0       NaN      NaN\n"
     ]
    }
   ],
   "source": [
    "import statsmodels.api         as     sm\n",
    "from   statsmodels.formula.api import ols\n",
    " \n",
    "mod = ols('Monthly_inc ~ Gym', data = monthly_inc_df).fit()\n",
    "aov_table = sm.stats.anova_lm(mod, typ=2)\n",
    "print(aov_table)\n"
   ]
  },
  {
   "cell_type": "markdown",
   "metadata": {},
   "source": [
    "### Step 5: Decide to reject or accept null hypothesis"
   ]
  },
  {
   "cell_type": "markdown",
   "metadata": {},
   "source": [
    "`In this example, calculated value of F ( = 0.497075) is less than Critical value of F( = 3.15)`\n",
    "\n",
    "***So the statistical decision is to reject the null hypothesis at 5% level of significance.***\n",
    "\n",
    "`So there is sufficient evidence to reject the null hypothesis that at least one mean monthly income of a gym is different from others.`"
   ]
  },
  {
   "cell_type": "code",
   "execution_count": null,
   "metadata": {},
   "outputs": [],
   "source": []
  },
  {
   "cell_type": "markdown",
   "metadata": {},
   "source": [
    "**Example 2:**"
   ]
  },
  {
   "cell_type": "markdown",
   "metadata": {},
   "source": [
    "    National Transportation Safety Board (NTSB) examines the safety of compact cars, midsize cars and full-size cars.Using the fake data given below, test whether the mean pressure applied to the driver's head during a crash test is equal for each types of car at 5% level of significance.\n",
    "\n",
    "meanpressure compact_car = [643, 655,702] <br>\n",
    "meanpressure midsize_car = [469, 427, 525] <br>\n",
    "meanpressure fullsize_car = [484, 456, 402] <br>"
   ]
  },
  {
   "cell_type": "code",
   "execution_count": 9,
   "metadata": {},
   "outputs": [],
   "source": [
    "import pandas            as pd\n",
    "import numpy             as np\n",
    "import matplotlib.pyplot as plt\n",
    "import seaborn           as sns"
   ]
  },
  {
   "cell_type": "code",
   "execution_count": 10,
   "metadata": {},
   "outputs": [
    {
     "name": "stdout",
     "output_type": "stream",
     "text": [
      "Count, Mean and standard deviation of mean pressue exerted by compact car:   3, 666.67 and 31.18\n",
      "Count, Mean and standard deviation of mean pressue exerted by midsize car:   3, 473.67 and 49.17\n",
      "Count, Mean and standard deviation of mean pressue exerted by full size car:   3, 447.33 and 41.68\n"
     ]
    }
   ],
   "source": [
    "mean_pressure_compact_car    =  np.array([643, 655,702])\n",
    "mean_pressure_midsize_car    =  np.array([469, 427, 525])\n",
    "mean_pressure_fullsize_car   =  np.array([484, 456, 402])\n",
    "print('Count, Mean and standard deviation of mean pressue exerted by compact car: %3d, %3.2f and %3.2f' % (len(mean_pressure_compact_car ), mean_pressure_compact_car .mean(),np.std(mean_pressure_compact_car ,ddof =1)))\n",
    "print('Count, Mean and standard deviation of mean pressue exerted by midsize car: %3d, %3.2f and %3.2f' % (len(mean_pressure_midsize_car), mean_pressure_midsize_car.mean(),np.std(mean_pressure_midsize_car,ddof =1)))\n",
    "print('Count, Mean and standard deviation of mean pressue exerted by full size car: %3d, %3.2f and %3.2f' % (len(mean_pressure_fullsize_car), mean_pressure_fullsize_car.mean(),np.std(mean_pressure_fullsize_car,ddof =1)))"
   ]
  },
  {
   "cell_type": "code",
   "execution_count": 11,
   "metadata": {},
   "outputs": [],
   "source": [
    "mean_pressure_df = pd.DataFrame()\n",
    "\n",
    "df1            = pd.DataFrame({'Car_Type': 'C', 'Mean_Pressure':mean_pressure_compact_car})\n",
    "df2            = pd.DataFrame({'Car_Type': 'M', 'Mean_Pressure':mean_pressure_midsize_car})\n",
    "df3            = pd.DataFrame({'Car_Type': 'F', 'Mean_Pressure':mean_pressure_fullsize_car})\n",
    "\n",
    "mean_pressure_df = mean_pressure_df.append(df1) \n",
    "mean_pressure_df = mean_pressure_df.append(df2) \n",
    "mean_pressure_df = mean_pressure_df.append(df3)\n"
   ]
  },
  {
   "cell_type": "markdown",
   "metadata": {},
   "source": [
    "Let us explore the data graphically <br>\n",
    "A side by side boxplot is one of the best way to compare group locations, spreads and shapes."
   ]
  },
  {
   "cell_type": "code",
   "execution_count": 12,
   "metadata": {},
   "outputs": [
    {
     "data": {
      "image/png": "[encoded data removed]",
      "text/plain": [
       "<Figure size 432x288 with 1 Axes>"
      ]
     },
     "metadata": {
      "needs_background": "light"
     },
     "output_type": "display_data"
    }
   ],
   "source": [
    "sns.boxplot(x = \"Car_Type\", y = \"Mean_Pressure\", data = mean_pressure_df)\n",
    "plt.title('Mean pressure exerted by car types')\n",
    "plt.show() "
   ]
  },
  {
   "cell_type": "markdown",
   "metadata": {},
   "source": [
    "    The boxplots show almost dissimilar shapes, location and spreads and there is no outlier."
   ]
  },
  {
   "cell_type": "markdown",
   "metadata": {},
   "source": [
    "### Step 1: State the null and alternative hypothesis:\n",
    "$H_0$: $\\mu1$ = $\\mu2$ = $\\mu3$ <br>\n",
    "$H_A$: At least one $\\mu$ differs\n",
    "\n",
    "Here $\\mu1$, $\\mu2$ and $\\mu3$ are the mean pressure applied to the driver's head during crash test by Compact car, Midsize car and Full size car respectively."
   ]
  },
  {
   "cell_type": "markdown",
   "metadata": {},
   "source": [
    "### Step 2: Decide the significance level\n",
    "Here we select α = 0.05"
   ]
  },
  {
   "cell_type": "markdown",
   "metadata": {},
   "source": [
    "### Step 3: Identify the test statistic\n",
    "Here we have three groups. Analysis of variance can determine whether the means of three or more groups are different. ANOVA uses F-tests to statistically test the equality of means."
   ]
  },
  {
   "cell_type": "markdown",
   "metadata": {},
   "source": [
    "### Step 4: Calculate p value using ANOVA table\n",
    "- statsmodels.formula.api.ols creates a model from a formula and dataframe\n",
    "- statsmodels.api.sm.stats.anova_lm gives an Anova table for one or more fitted linear models"
   ]
  },
  {
   "cell_type": "code",
   "execution_count": 13,
   "metadata": {},
   "outputs": [
    {
     "name": "stdout",
     "output_type": "stream",
     "text": [
      "                sum_sq   df          F    PR(>F)\n",
      "Car_Type  86049.555556  2.0  25.175411  0.001207\n",
      "Residual  10254.000000  6.0        NaN       NaN\n"
     ]
    }
   ],
   "source": [
    "import statsmodels.api         as     sm\n",
    "from   statsmodels.formula.api import ols\n",
    " \n",
    "mod = ols('Mean_Pressure ~ Car_Type', data = mean_pressure_df).fit()\n",
    "aov_table = sm.stats.anova_lm(mod, typ=2)\n",
    "print(aov_table)"
   ]
  },
  {
   "cell_type": "markdown",
   "metadata": {},
   "source": [
    "### Step 5: Decide to reject or accept null hypothesis\n",
    "\n",
    "    In this example, p value is 0.001207 and it is less than our chosen level of signifance at 5%\n",
    "\n"
   ]
  },
  {
   "cell_type": "markdown",
   "metadata": {},
   "source": [
    "    So the statistical decision is to reject the null hypothesis at 5% level of significance.\n",
    "\n",
    "    So there is sufficient evidence to reject the null hypothesis that at least one mean pressure of car is different from others .\n",
    "    \n",
    "### Determine which mean(s) is / are different\n",
    "    An ANOVA test will test that at least one mean is different.\n",
    "\n",
    "    You have rejected the null hypothesis but do not know which mean(s) is / are different. We use Tukey-krammer HSD test to detect which mean(s) is / are different."
   ]
  },
  {
   "cell_type": "code",
   "execution_count": 14,
   "metadata": {},
   "outputs": [
    {
     "name": "stdout",
     "output_type": "stream",
     "text": [
      "   Multiple Comparison of Means - Tukey HSD, FWER=0.05   \n",
      "=========================================================\n",
      "group1 group2  meandiff p-adj    lower     upper   reject\n",
      "---------------------------------------------------------\n",
      "     C      F -219.3333 0.0015 -322.7791 -115.8876   True\n",
      "     C      M    -193.0  0.003 -296.4458  -89.5542   True\n",
      "     F      M   26.3333 0.7172  -77.1124  129.7791  False\n",
      "---------------------------------------------------------\n"
     ]
    }
   ],
   "source": [
    "from statsmodels.stats.multicomp import pairwise_tukeyhsd\n",
    "print(pairwise_tukeyhsd(mean_pressure_df['Mean_Pressure'], mean_pressure_df['Car_Type']))"
   ]
  },
  {
   "cell_type": "markdown",
   "metadata": {},
   "source": [
    "\n",
    "**Inference :**\n",
    "\n",
    "Compact Car Vs Full-size cars: Since the result - reject is true, mean head pressure is statistically different between Compact and Full-size cars.\n",
    "\n",
    "Compact Car Vs Mid-size cars: Since the result - reject is true, mean head pressure is statistically different between Compact and Mid-size cars.\n",
    "\n",
    "Full-size Car Vs Mid-size cars: Since the result - reject is false, mean head pressure is statistically equal to Full-size and Mid-size cars."
   ]
  }
 ],
 "metadata": {
  "kernelspec": {
   "display_name": "Python 3",
   "language": "python",
   "name": "python3"
  },
  "language_info": {
   "codemirror_mode": {
    "name": "ipython",
    "version": 3
   },
   "file_extension": ".py",
   "mimetype": "text/x-python",
   "name": "python",
   "nbconvert_exporter": "python",
   "pygments_lexer": "ipython3",
   "version": "3.7.4"
  }
 },
 "nbformat": 4,
 "nbformat_minor": 2
}
