{
 "cells": [
  {
   "cell_type": "markdown",
   "metadata": {},
   "source": [
    "<h2 align = 'center'><font color = 'blue'>Spearman's Correlation</font></h2>"
   ]
  },
  {
   "cell_type": "markdown",
   "metadata": {},
   "source": [
    "- ***`The Spearman rank-order correlation is a statistical procedure that is designed to measure the relationship between two variables on an ordinal scale of measurement.`***"
   ]
  },
  {
   "cell_type": "markdown",
   "metadata": {},
   "source": [
    "### Spearman’s Correlation : (Non Gaussian Distribution)\n",
    "\n",
    "- `Two variables may be related by a nonlinear relationship, such that the relationship is stronger or weaker across the distribution of the variables.`\n",
    "<br>\n",
    "\n",
    "\n",
    "\n",
    "- `Further, the two variables being considered may have a non-Gaussian distribution.`"
   ]
  },
  {
   "cell_type": "markdown",
   "metadata": {},
   "source": [
    "![title](Spearmans_Correlation.png)"
   ]
  },
  {
   "cell_type": "markdown",
   "metadata": {},
   "source": [
    "***Interpretation :***\n",
    "\n",
    "        H0: There is no [monotonic] association between the two variables [in the population].\n",
    "        H1: There is [monotonic] association between the two variables [in the population]."
   ]
  },
  {
   "cell_type": "markdown",
   "metadata": {},
   "source": [
    "- In this case, the Spearman’s correlation coefficient (`named for Charles Spearman`) can be used to summarize the strength between the two data samples. This test of relationship can also be used if there is a linear relationship between the variables, but will have slightly less power (e.g. may result in lower coefficient scores).\n",
    "\n",
    "- As with the Pearson correlation coefficient, the scores are between -1 and 1 for perfectly negatively correlated variables and perfectly positively correlated respectively.\n",
    "\n",
    "- Instead of calculating the coefficient using covariance and standard deviations on the samples themselves, these statistics are calculated from the ***relative rank of values on each sample.*** This is a common approach used in ***non-parametric statistics, e.g. statistical methods where we do not assume a distribution of the data such as Gaussian.***\n",
    "\n",
    "            Spearman's correlation coefficient = covariance(rank(X), rank(Y)) / (stdv(rank(X)) * stdv(rank(Y)))\n",
    "\n",
    "A linear relationship between the variables is not assumed, although a **monotonic relationship** is assumed. This is a *mathematical name for an increasing or decreasing relationship between the two variables.*\n",
    "\n",
    "- ***`If you are unsure of the distribution and possible relationships between two variables, Spearman correlation coefficient is a good tool to use.`***\n"
   ]
  },
  {
   "cell_type": "markdown",
   "metadata": {},
   "source": [
    "- `Spearman’s rank correlation can be calculated in Python using the  `**spearmanr()**`  SciPy function between two data samples with the same length.`\n",
    "<br>\n",
    "\n",
    "\n",
    "- `The function takes two real-valued samples as arguments and returns both the correlation coefficient in the range between -1 and 1 and the p-value for interpreting the significance of the coefficient.`"
   ]
  },
  {
   "cell_type": "code",
   "execution_count": 1,
   "metadata": {},
   "outputs": [
    {
     "name": "stdout",
     "output_type": "stream",
     "text": [
      "Spearmans correlation coefficient: 0.900\n",
      "Samples are correlated (reject H0) p=0.000\n"
     ]
    }
   ],
   "source": [
    "# calculate the spearman's correlation between two variables\n",
    "\n",
    "from numpy.random import rand\n",
    "from numpy.random import seed\n",
    "from scipy.stats import spearmanr\n",
    "\n",
    "# seed random number generator\n",
    "seed(1)\n",
    "# prepare data\n",
    "data1 = rand(1000) * 20\n",
    "data2 = data1 + (rand(1000) * 10)\n",
    "\n",
    "# calculate spearman's correlation\n",
    "coef, p = spearmanr(data1, data2)\n",
    "print('Spearmans correlation coefficient: %.3f' % coef)\n",
    "\n",
    "# interpret the significance\n",
    "alpha = 0.05\n",
    "if p > alpha:\n",
    "    print('Samples are uncorrelated (fail to reject H0) p=%.3f' % p)\n",
    "else:\n",
    "    print('Samples are correlated (reject H0) p=%.3f' % p)"
   ]
  },
  {
   "cell_type": "markdown",
   "metadata": {},
   "source": [
    "- ***Returns :***\n",
    "            \n",
    "    Spearman’s correlation coefficient\n",
    "                \n",
    "                    rho(p) : float\n",
    "                \n",
    "    Two-tailed p-value\n",
    "    \n",
    "                    p-value : float"
   ]
  }
 ],
 "metadata": {
  "kernelspec": {
   "display_name": "Python 3",
   "language": "python",
   "name": "python3"
  },
  "language_info": {
   "codemirror_mode": {
    "name": "ipython",
    "version": 3
   },
   "file_extension": ".py",
   "mimetype": "text/x-python",
   "name": "python",
   "nbconvert_exporter": "python",
   "pygments_lexer": "ipython3",
   "version": "3.7.4"
  }
 },
 "nbformat": 4,
 "nbformat_minor": 2
}
