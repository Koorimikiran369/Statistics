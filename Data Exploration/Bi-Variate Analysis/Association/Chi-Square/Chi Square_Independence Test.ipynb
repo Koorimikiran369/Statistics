{
 "cells": [
  {
   "cell_type": "markdown",
   "metadata": {},
   "source": [
    "## <font color = 'green'> Chi-square test </font>:\n"
   ]
  },
  {
   "cell_type": "markdown",
   "metadata": {},
   "source": [
    "**Description :**\n",
    "\n",
    "    The chi-square (c2) test measures the alignment between two sets of frequency measures. These must be categorical counts and not percentages or ratios measures.\n",
    "\n",
    "    Note that the frequency numbers should be significant and be at least above 5 (although an occasional lower figure may be possible, as long as they are not a part of a pattern of low figures)."
   ]
  },
  {
   "cell_type": "markdown",
   "metadata": {},
   "source": [
    "### Chi Square Independence : (scipy.stats.chi2_contingency)\n",
    "\n",
    "- `The chi-square test can be used in the reverse manner to goodness of fit. If the two sets of measures are compared, then just as you can show they align, you can also determine if they do not align.`\n"
   ]
  },
  {
   "cell_type": "markdown",
   "metadata": {},
   "source": [
    "- ***`The main difference in goodness-of-fit vs. independence assessments is in the use of the Chi Square table. For goodness of fit, attention is on 0.05, 0.01 or 0.001 figures. For independence, it is on 0.95 or 0.99 figures (this is why the table has two ends to it).`***"
   ]
  },
  {
   "cell_type": "markdown",
   "metadata": {},
   "source": [
    "![title](ChiSquare_Ind.png)"
   ]
  },
  {
   "cell_type": "markdown",
   "metadata": {},
   "source": [
    "    The Chi-square test of independence is an omnibus test; meaning it tests the data as a whole. This means that one will not be able to easily tell which levels (categories) of the variables are responsible for the relationship if the Chi-square table is larger than 2×2. "
   ]
  },
  {
   "cell_type": "markdown",
   "metadata": {},
   "source": [
    "### Step 1: State the null and alternative hypothesis:\n",
    "\n",
    "  **Null hypothesis ($H_0$)**: There is no difference in quality of the products manufactured by male and female\n",
    "\n",
    "  **Alternative hypothesis ( $H_A$)**: There is a significant difference in quality of the products manufactured by male and female"
   ]
  },
  {
   "cell_type": "markdown",
   "metadata": {},
   "source": [
    "### Step 2: Decide the significance level\n",
    "    \n",
    "            Here we select α = 0.05"
   ]
  },
  {
   "cell_type": "markdown",
   "metadata": {},
   "source": [
    "### Step 3: Identify the test statistic\n",
    "\n",
    "     use the chi-square test of independence to find out the difference of categorical variables"
   ]
  },
  {
   "cell_type": "markdown",
   "metadata": {},
   "source": [
    "### Step 4: Calculate p value or chi-square statistic value"
   ]
  },
  {
   "cell_type": "code",
   "execution_count": 1,
   "metadata": {},
   "outputs": [
    {
     "name": "stdout",
     "output_type": "stream",
     "text": [
      "Chi-square statistic 22.15247 P value 0.000015 Degrees of freedom 2\n"
     ]
    }
   ],
   "source": [
    "import pandas      as pd\n",
    "import numpy       as np\n",
    "import scipy.stats as stats\n",
    "\n",
    "quality_array = np.array([[138, 83, 64],[64, 67, 84]])\n",
    "chi_sq_Stat, p_value, deg_freedom, exp_freq = stats.chi2_contingency(quality_array)\n",
    "\n",
    "print('Chi-square statistic %3.5f P value %1.6f Degrees of freedom %d' %(chi_sq_Stat, p_value,deg_freedom))"
   ]
  },
  {
   "cell_type": "markdown",
   "metadata": {},
   "source": [
    "### Step 5: Decide to reject or accept null hypothesis\n",
    "\n",
    "    In this example, p value is 0.000015 and < 0.05 so we reject the null hypothesis.\n",
    "\n",
    "So, we conclude that there is a significant difference in quality of the products manufactured by male and female."
   ]
  },
  {
   "cell_type": "code",
   "execution_count": 2,
   "metadata": {},
   "outputs": [],
   "source": [
    "# Functions for calculating the degree of association between nominal variables\n",
    "    \n",
    "\" This Function is using to find the Association between the Categorical Columns\"\n",
    "\n",
    "def ChiSquare(df,cols):\n",
    "\n",
    "    crosstab = pd.crosstab(df[cols[0]], df[cols[1]])\n",
    "\n",
    "    chi_sq_Stat, p_value, deg_freedom, exp_freq = stats.chi2_contingency(crosstab)\n",
    "\n",
    "    print('Chi-square statistic %3.5f P value %1.6f Degrees of freedom %d' %(chi_sq_Stat, p_value,deg_freedom))\n",
    "\n",
    "    if(p_value <= 0.05):\n",
    "\n",
    "        print('We reject the Null Hypothesis and we retain Alternative Hypothesis : Two columns are dependent')\n",
    "\n",
    "    else:\n",
    "\n",
    "        print('We failed reject the Null Hypothesis : Two columns are independent')"
   ]
  },
  {
   "cell_type": "code",
   "execution_count": 3,
   "metadata": {},
   "outputs": [
    {
     "name": "stdout",
     "output_type": "stream",
     "text": [
      "Enter multiple Columns: neighbourhood_group room_type\n",
      "Chi-square statistic 1559.58035 P value 0.000000 Degrees of freedom 8\n",
      "We reject the Null Hypothesis and we retain Alternative Hypothesis : Two columns are dependent\n"
     ]
    }
   ],
   "source": [
    "data = pd.read_csv(\"AB_NYC_2019.csv\",parse_dates=[0])\n",
    "x = [x for x in input(\"Enter multiple Columns: \").split()] \n",
    "ChiSquare(data,x)"
   ]
  }
 ],
 "metadata": {
  "kernelspec": {
   "display_name": "Python 3",
   "language": "python",
   "name": "python3"
  },
  "language_info": {
   "codemirror_mode": {
    "name": "ipython",
    "version": 3
   },
   "file_extension": ".py",
   "mimetype": "text/x-python",
   "name": "python",
   "nbconvert_exporter": "python",
   "pygments_lexer": "ipython3",
   "version": "3.7.4"
  }
 },
 "nbformat": 4,
 "nbformat_minor": 2
}
